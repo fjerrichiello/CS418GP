{
 "cells": [
  {
   "cell_type": "code",
   "execution_count": 2,
   "metadata": {},
   "outputs": [],
   "source": [
    "#library and data imports\n",
    "import pandas as pd\n",
    "import matplotlib.pyplot as plt\n",
    "import seaborn as sns\n",
    "import plotly \n",
    "import geopandas as gp\n",
    "import shapely\n",
    "import shapefile\n",
    "from sklearn.model_selection import train_test_split\n",
    "from sklearn.preprocessing import StandardScaler  \n",
    "import plotly.figure_factory as ff\n",
    "demographics_data = pd.read_csv('demographics_test.csv')\n",
    "merged_train = pd.read_csv('merged_train.csv')\n",
    "X = merged_train[['Total Population', 'Percent White, not Hispanic or Latino',\n",
    "                  'Percent Black, not Hispanic or Latino', 'Percent Hispanic or Latino', 'Percent Foreign Born',\n",
    "                  'Percent Female', 'Percent Age 29 and Under', 'Percent Age 65 and Older', 'Median Household Income',\n",
    "                  'Percent Unemployed', 'Percent Less than High School Degree', 'Percent Less than Bachelor\\'s Degree',\n",
    "                  'Percent Rural']]\n",
    "Y = merged_train[['Democratic','Republican']]\n"
   ]
  },
  {
   "cell_type": "code",
   "execution_count": 3,
   "metadata": {},
   "outputs": [],
   "source": [
    "x_train, x_test, y_train, y_test = train_test_split(X, Y, train_size=.75, test_size=0.25, random_state=0)"
   ]
  },
  {
   "cell_type": "code",
   "execution_count": 4,
   "metadata": {},
   "outputs": [
    {
     "name": "stdout",
     "output_type": "stream",
     "text": [
      "[[-0.3287239   0.67151144 -0.26350303 ... -0.17062413  1.01406194\n",
      "   0.77555586]\n",
      " [-0.24936845  0.75868846 -0.40186143 ...  1.0578614   1.06814008\n",
      "   0.60330794]\n",
      " [-0.34138666  0.85969401 -0.56917509 ... -0.30261512  0.76501978\n",
      "   1.31092049]\n",
      " ...\n",
      " [-0.04939121 -0.60217403  0.44814651 ...  0.32989637  0.21930393\n",
      "  -0.22759351]\n",
      " [-0.22119984  0.87722062 -0.51847681 ... -0.3554369   0.9134463\n",
      "   0.30929678]\n",
      " [-0.25241604  0.49667986 -0.2376449  ...  0.20906802  0.2665856\n",
      "   0.41106862]]\n"
     ]
    }
   ],
   "source": [
    "scaler = StandardScaler()\n",
    "scaler.fit(x_train)\n",
    "x_train_scaled = scaler.transform(x_train)\n",
    "x_test_scaled = scaler.transform(x_test)\n",
    "print(x_train_scaled)"
   ]
  },
  {
   "cell_type": "code",
   "execution_count": null,
   "metadata": {},
   "outputs": [],
   "source": []
  }
 ],
 "metadata": {
  "kernelspec": {
   "display_name": "Python 3",
   "language": "python",
   "name": "python3"
  },
  "language_info": {
   "codemirror_mode": {
    "name": "ipython",
    "version": 3
   },
   "file_extension": ".py",
   "mimetype": "text/x-python",
   "name": "python",
   "nbconvert_exporter": "python",
   "pygments_lexer": "ipython3",
   "version": "3.8.3"
  }
 },
 "nbformat": 4,
 "nbformat_minor": 4
}
