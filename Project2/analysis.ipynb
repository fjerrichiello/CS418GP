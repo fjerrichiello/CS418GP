{
 "cells": [
  {
   "cell_type": "code",
   "execution_count": 146,
   "metadata": {},
   "outputs": [],
   "source": [
    "#library and data imports\n",
    "import pandas as pd\n",
    "import matplotlib.pyplot as plt\n",
    "import seaborn as sns\n",
    "import plotly \n",
    "import geopandas as gp\n",
    "import shapely\n",
    "import shapefile\n",
    "from sklearn.model_selection import train_test_split\n",
    "from sklearn.preprocessing import StandardScaler  \n",
    "import plotly.figure_factory as ff\n",
    "demographics_data = pd.read_csv('demographics_test.csv')\n",
    "merged_train = pd.read_csv('merged_train.csv')\n",
    "X = merged_train[['Total Population', 'Percent White, not Hispanic or Latino',\n",
    "                  'Percent Black, not Hispanic or Latino', 'Percent Hispanic or Latino', 'Percent Foreign Born',\n",
    "                  'Percent Female', 'Percent Age 29 and Under', 'Percent Age 65 and Older', 'Median Household Income',\n",
    "                  'Percent Unemployed', 'Percent Less than High School Degree', 'Percent Less than Bachelor\\'s Degree',\n",
    "                  'Percent Rural']]\n",
    "Y = merged_train[['Democratic','Republican']]"
   ]
  },
  {
   "cell_type": "code",
   "execution_count": 147,
   "metadata": {},
   "outputs": [],
   "source": [
    "x_train, x_test, y_train, y_test = train_test_split(X, Y, train_size=.75, test_size=0.25, random_state=0)"
   ]
  },
  {
   "cell_type": "code",
   "execution_count": 148,
   "metadata": {
    "scrolled": true
   },
   "outputs": [],
   "source": [
    "scaler = StandardScaler()\n",
    "scaler.fit(x_train)\n",
    "x_train_scaled = scaler.transform(x_train)\n",
    "x_test_scaled = scaler.transform(x_test)\n",
    "#print(x_train_scaled)"
   ]
  },
  {
   "cell_type": "markdown",
   "metadata": {},
   "source": [
    "**3. Build a linear regression model to predict the number of votes cast for the Democratic party in each county. Consider multiple combinations of predictor variables.Compute evaluation metrics for the validation set and report your results.**"
   ]
  },
  {
   "cell_type": "code",
   "execution_count": 149,
   "metadata": {},
   "outputs": [
    {
     "name": "stdout",
     "output_type": "stream",
     "text": [
      "[74711.50206856] 27569.373883928572\n",
      "0.9435784812901373\n"
     ]
    }
   ],
   "source": [
    "#Simple linear regression using 'Population' as predictor to predict Democratic votes.\n",
    "\n",
    "from sklearn import linear_model\n",
    "import numpy\n",
    "\n",
    "n = len(x_train) #Number of observations in the training set\n",
    "\n",
    "model = linear_model.LinearRegression()\n",
    "fitted_model = model.fit(X = x_train_scaled[:, 0].reshape(-1, 1), y = y_train['Democratic'])\n",
    "print(model.coef_ , model.intercept_)\n",
    "\n",
    "predicted = fitted_model.predict(x_test_scaled[:, 0].reshape(-1, 1))\n",
    "\n",
    "corr_coef = numpy.corrcoef(predicted,y_test['Democratic'])[1, 0]\n",
    "R_squared = corr_coef ** 2\n",
    "\n",
    "adj_R_squared = 1 - ((1 - R_squared)*(n - 1)/(n - 1 - 1))\n",
    "print(adj_R_squared)\n",
    "\n",
    "#print(x_train.info())"
   ]
  },
  {
   "cell_type": "code",
   "execution_count": 150,
   "metadata": {},
   "outputs": [
    {
     "name": "stdout",
     "output_type": "stream",
     "text": [
      "[-8137.73810376] 27569.373883928572\n",
      "0.02164134183638411\n"
     ]
    }
   ],
   "source": [
    "#Simple linear regression using 'Percent Less than High School Degree' as predictor to predict Democratic votes.\n",
    "\n",
    "model = linear_model.LinearRegression()\n",
    "fitted_model = model.fit(X = x_train_scaled[:, 10].reshape(-1, 1), y = y_train['Democratic'])\n",
    "print(model.coef_ , model.intercept_)\n",
    "\n",
    "predicted = fitted_model.predict(x_test_scaled[:, 10].reshape(-1, 1))\n",
    "\n",
    "corr_coef = numpy.corrcoef(predicted,y_test['Democratic'])[1, 0]\n",
    "R_squared = corr_coef ** 2\n",
    "\n",
    "adj_R_squared = 1 - ((1 - R_squared)*(n - 1)/(n - 1 - 1))\n",
    "print(adj_R_squared)"
   ]
  },
  {
   "cell_type": "code",
   "execution_count": 151,
   "metadata": {},
   "outputs": [
    {
     "name": "stdout",
     "output_type": "stream",
     "text": [
      "[73067.37334453  6279.76422366] 27569.37388392857\n",
      "0.939201701208693\n"
     ]
    }
   ],
   "source": [
    "#Multiple linear regression using \"Population\", \"Median Household Income\" as predictor to predict Democratic votes.\n",
    "\n",
    "model = linear_model.LinearRegression()\n",
    "fitted_model = model.fit(X = x_train_scaled[:, [0,8]], y = y_train['Democratic'])\n",
    "print(model.coef_ , model.intercept_)\n",
    "\n",
    "predicted = fitted_model.predict(x_test_scaled[:, [0,8]])\n",
    "\n",
    "\n",
    "corr_coef = numpy.corrcoef(predicted,y_test['Democratic'])[1, 0]\n",
    "R_squared = corr_coef ** 2\n",
    "\n",
    "adj_R_squared = 1 - ((1 - R_squared)*(n - 1)/(n - 2 - 1))\n",
    "print(adj_R_squared)"
   ]
  },
  {
   "cell_type": "code",
   "execution_count": 152,
   "metadata": {},
   "outputs": [
    {
     "name": "stdout",
     "output_type": "stream",
     "text": [
      "[71012.84796525  -345.05366382  1157.04687807 -8608.17042826] 27569.37388392857\n",
      "0.9474994738338725\n"
     ]
    }
   ],
   "source": [
    "#Multiple linear regression using \"Population\", \"Median Household Income\",\"Percent white, not hispanic or latino\",\n",
    "#\"Percent Less than Bachelor's degree\" as predictor to predict Democratic votes.\n",
    "\n",
    "model = linear_model.LinearRegression()\n",
    "fitted_model = model.fit(X = x_train_scaled[:, [0,1,8,11]], y = y_train['Democratic'])\n",
    "print(model.coef_ , model.intercept_)\n",
    "\n",
    "predicted = fitted_model.predict(x_test_scaled[:, [0,1,8,11]])\n",
    "\n",
    "corr_coef = numpy.corrcoef(predicted,y_test['Democratic'])[1, 0]\n",
    "R_squared = corr_coef ** 2\n",
    "\n",
    "adj_R_squared = 1 - ((1 - R_squared)*(n - 1)/(n - 4 - 1))\n",
    "print(adj_R_squared)"
   ]
  },
  {
   "cell_type": "code",
   "execution_count": 153,
   "metadata": {},
   "outputs": [
    {
     "name": "stdout",
     "output_type": "stream",
     "text": [
      "[ 69224.38708039  -3209.1591268   -1023.23488454  -6931.14708179\n",
      "   3973.74580741    194.19056985  -5299.5676761   -1853.22320472\n",
      "   1471.25963216   1467.0213699    4037.7699931  -10519.02638282\n",
      "   -158.13004477] 27569.37388392856\n",
      "0.932860992564198\n"
     ]
    }
   ],
   "source": [
    "#Multiple linear regression using all predictor to predict Democratic votes.\n",
    "\n",
    "model = linear_model.LinearRegression()\n",
    "fitted_model = model.fit(X = x_train_scaled, y = y_train['Democratic'])\n",
    "print(model.coef_ , model.intercept_)\n",
    "\n",
    "predicted = fitted_model.predict(x_test_scaled)\n",
    "\n",
    "corr_coef = numpy.corrcoef(predicted,y_test['Democratic'])[1, 0]\n",
    "R_squared = corr_coef ** 2\n",
    "\n",
    "adj_R_squared = 1 - ((1 - R_squared)*(n - 1)/(n - len(x_train.columns) - 1))\n",
    "print(adj_R_squared)"
   ]
  },
  {
   "cell_type": "markdown",
   "metadata": {},
   "source": [
    "**What is the best performing linear regression model? What is the performance of the model? How did you select the variables\n",
    "of the model?**"
   ]
  },
  {
   "cell_type": "markdown",
   "metadata": {},
   "source": [
    "**Answer:** The best performing linear Regression model is Multiple linear Regression model using \"Population\", \"Median Household Income\",\"Percent white, not hispanic or latino\", \"Percent Less than Bachelor's degree\" as predictor. The model perform well with these four predictors with adjusted R square value = 0.947. Selection of the varible is consistant with Project 1 conclusion and also on present analysis as we see here the adjusted R square value decreases if we consider all variables as predictors."
   ]
  },
  {
   "cell_type": "markdown",
   "metadata": {},
   "source": [
    "**Build a linear regression model to predict the number of votes cast for the Republican party in each county. Consider multiple combinations of predictor variables.Compute evaluation metrics for the validatiRepublicanon set and report your results.**"
   ]
  },
  {
   "cell_type": "code",
   "execution_count": 154,
   "metadata": {},
   "outputs": [
    {
     "name": "stdout",
     "output_type": "stream",
     "text": [
      "[45306.87897032] 21546.910714285714\n",
      "0.6714797544800217\n"
     ]
    }
   ],
   "source": [
    "#Simple linear regression using 'Population' as predictor to predict Republican votes.\n",
    "\n",
    "from sklearn import linear_model\n",
    "import numpy\n",
    "\n",
    "n = len(x_train) #Number of observations in the training set\n",
    "\n",
    "model = linear_model.LinearRegression()\n",
    "fitted_model = model.fit(X = x_train_scaled[:, 0].reshape(-1, 1), y = y_train['Republican'])\n",
    "print(model.coef_ , model.intercept_)\n",
    "\n",
    "predicted = fitted_model.predict(x_test_scaled[:, 0].reshape(-1, 1))\n",
    "\n",
    "corr_coef = numpy.corrcoef(predicted,y_test['Republican'])[1, 0]\n",
    "R_squared = corr_coef ** 2\n",
    "\n",
    "adj_R_squared = 1 - ((1 - R_squared)*(n - 1)/(n - 1 - 1))\n",
    "print(adj_R_squared)\n"
   ]
  },
  {
   "cell_type": "code",
   "execution_count": 155,
   "metadata": {},
   "outputs": [
    {
     "name": "stdout",
     "output_type": "stream",
     "text": [
      "[-6381.7748349] 21546.910714285714\n",
      "0.03485762203356779\n"
     ]
    }
   ],
   "source": [
    "#Simple linear regression using 'Percent Less than High School Degree' as predictor to predict Republican votes.\n",
    "\n",
    "model = linear_model.LinearRegression()\n",
    "fitted_model = model.fit(X = x_train_scaled[:, 10].reshape(-1, 1), y = y_train['Republican'])\n",
    "print(model.coef_ , model.intercept_)\n",
    "\n",
    "predicted = fitted_model.predict(x_test_scaled[:, 10].reshape(-1, 1))\n",
    "\n",
    "corr_coef = numpy.corrcoef(predicted,y_test['Republican'])[1, 0]\n",
    "R_squared = corr_coef ** 2\n",
    "\n",
    "adj_R_squared = 1 - ((1 - R_squared)*(n - 1)/(n - 1 - 1))\n",
    "print(adj_R_squared)\n"
   ]
  },
  {
   "cell_type": "code",
   "execution_count": 156,
   "metadata": {},
   "outputs": [
    {
     "name": "stdout",
     "output_type": "stream",
     "text": [
      "[44042.16950014  4830.56902305] 21546.91071428571\n",
      "0.6834161715428404\n"
     ]
    }
   ],
   "source": [
    "#Multiple linear regression using \"Population\", \"Median Household Income\" as predictor to predict Republican votes.\n",
    "\n",
    "model = linear_model.LinearRegression()\n",
    "fitted_model = model.fit(X = x_train_scaled[:, [0,8]], y = y_train['Republican'])\n",
    "print(model.coef_ , model.intercept_)\n",
    "\n",
    "predicted = fitted_model.predict(x_test_scaled[:, [0,8]])\n",
    "\n",
    "\n",
    "corr_coef = numpy.corrcoef(predicted,y_test['Republican'])[1, 0]\n",
    "R_squared = corr_coef ** 2\n",
    "\n",
    "adj_R_squared = 1 - ((1 - R_squared)*(n - 1)/(n - 2 - 1))\n",
    "print(adj_R_squared)"
   ]
  },
  {
   "cell_type": "code",
   "execution_count": 157,
   "metadata": {},
   "outputs": [
    {
     "name": "stdout",
     "output_type": "stream",
     "text": [
      "[44609.62027579  3068.87458444  3337.02252553 -2140.80688346] 21546.910714285714\n",
      "0.682364141897545\n"
     ]
    }
   ],
   "source": [
    "#Multiple linear regression using \"Population\", \"Median Household Income\",\"Percent white, not hispanic or latino\",\n",
    "#\"Percent Less than Bachelor's degree\" as predictor to predict Republican votes.\n",
    "\n",
    "model = linear_model.LinearRegression()\n",
    "fitted_model = model.fit(X = x_train_scaled[:, [0,1,8,11]], y = y_train['Republican'])\n",
    "print(model.coef_ , model.intercept_)\n",
    "\n",
    "predicted = fitted_model.predict(x_test_scaled[:, [0,1,8,11]])\n",
    "\n",
    "corr_coef = numpy.corrcoef(predicted,y_test['Republican'])[1, 0]\n",
    "R_squared = corr_coef ** 2\n",
    "\n",
    "adj_R_squared = 1 - ((1 - R_squared)*(n - 1)/(n - 4 - 1))\n",
    "print(adj_R_squared)"
   ]
  },
  {
   "cell_type": "code",
   "execution_count": 158,
   "metadata": {},
   "outputs": [
    {
     "name": "stdout",
     "output_type": "stream",
     "text": [
      "[45467.5097118   1769.95034533 -3141.4206375   1167.17323402\n",
      " -6463.65917143 -1121.73432851  -955.67013341  2580.74056065\n",
      "  5910.97457236  2037.10575397  3530.42010898 -3156.11275644\n",
      " -5992.05181735] 21546.910714285706\n",
      "0.7198319563310677\n"
     ]
    }
   ],
   "source": [
    "#Multiple linear regression using all predictor to predict Republican votes.\n",
    "\n",
    "model = linear_model.LinearRegression()\n",
    "fitted_model = model.fit(X = x_train_scaled, y = y_train['Republican'])\n",
    "print(model.coef_ , model.intercept_)\n",
    "\n",
    "predicted = fitted_model.predict(x_test_scaled)\n",
    "\n",
    "corr_coef = numpy.corrcoef(predicted,y_test['Republican'])[1, 0]\n",
    "R_squared = corr_coef ** 2\n",
    "\n",
    "adj_R_squared = 1 - ((1 - R_squared)*(n - 1)/(n - len(x_train.columns) - 1))\n",
    "print(adj_R_squared)"
   ]
  },
  {
   "cell_type": "markdown",
   "metadata": {},
   "source": [
    "**What is the best performing linear regression model? What is the performance of the model? How did you select the variables\n",
    "of the model?**"
   ]
  },
  {
   "cell_type": "markdown",
   "metadata": {},
   "source": [
    "**Answer:** The best performing linear Regression model while prediction Republican votes is Multiple linear Regression model using all veriables as predictor. The model does not perform too well with maximum adjusted R square value = 0.719.\n",
    "All the variables are selected for the model as it gives the best adjusted R square value."
   ]
  },
  {
   "cell_type": "code",
   "execution_count": null,
   "metadata": {},
   "outputs": [],
   "source": []
  }
 ],
 "metadata": {
  "kernelspec": {
   "display_name": "Python 3",
   "language": "python",
   "name": "python3"
  },
  "language_info": {
   "codemirror_mode": {
    "name": "ipython",
    "version": 3
   },
   "file_extension": ".py",
   "mimetype": "text/x-python",
   "name": "python",
   "nbconvert_exporter": "python",
   "pygments_lexer": "ipython3",
   "version": "3.8.3"
  }
 },
 "nbformat": 4,
 "nbformat_minor": 4
}
