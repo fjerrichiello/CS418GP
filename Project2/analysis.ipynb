{
 "cells": [
  {
   "cell_type": "code",
   "execution_count": 17,
   "metadata": {},
   "outputs": [],
   "source": [
    "#library and data imports\n",
    "import pandas as pd\n",
    "import matplotlib.pyplot as plt\n",
    "import seaborn as sns\n",
    "from sklearn.tree import DecisionTreeClassifier\n",
    "from sklearn import metrics\n",
    "from sklearn.naive_bayes import GaussianNB\n",
    "from scipy.cluster.hierarchy import linkage, fcluster\n",
    "from sklearn.cluster import DBSCAN\n",
    "# import geopandas as gp\n",
    "# import shapely\n",
    "# import shapefile\n",
    "# import plotly.figure_factory as ff\n",
    "# import plotly \n",
    "# import geopandas as gp\n",
    "# import shapely\n",
    "# import shapefile\n",
    "from sklearn.model_selection import train_test_split\n",
    "from sklearn.preprocessing import StandardScaler  \n",
    "import plotly.figure_factory as ff\n",
    "#demographics_test = pd.read_csv('demographics_test.csv')\n",
    "merged_train = pd.read_csv('merged_train.csv')\n",
    "X = merged_train[['State','County','FIPS','Total Population', 'Percent White, not Hispanic or Latino',\n",
    "                  'Percent Black, not Hispanic or Latino', 'Percent Hispanic or Latino', 'Percent Foreign Born',\n",
    "                  'Percent Female', 'Percent Age 29 and Under', 'Percent Age 65 and Older', 'Median Household Income',\n",
    "                  'Percent Unemployed', 'Percent Less than High School Degree', 'Percent Less than Bachelor\\'s Degree',\n",
    "                  'Percent Rural']]\n",
    "\n",
    "\n",
    "\n",
    "Y = merged_train[['Democratic','Republican','Party']]"
   ]
  },
  {
   "cell_type": "code",
   "execution_count": 18,
   "metadata": {},
   "outputs": [],
   "source": [
    "x_train, x_test, y_train, y_test = train_test_split(X, Y, train_size=.75, test_size=0.25, random_state=0)"
   ]
  },
  {
   "cell_type": "code",
   "execution_count": 19,
   "metadata": {
    "scrolled": true
   },
   "outputs": [],
   "source": [
    "scaler = StandardScaler()\n",
    "scaler.fit(x_train[['Total Population', 'Percent White, not Hispanic or Latino',\n",
    "                  'Percent Black, not Hispanic or Latino', 'Percent Hispanic or Latino', 'Percent Foreign Born',\n",
    "                  'Percent Female', 'Percent Age 29 and Under', 'Percent Age 65 and Older', 'Median Household Income',\n",
    "                  'Percent Unemployed', 'Percent Less than High School Degree', 'Percent Less than Bachelor\\'s Degree',\n",
    "                  'Percent Rural']])\n",
    "x_train_scaled = scaler.transform(x_train[['Total Population', 'Percent White, not Hispanic or Latino',\n",
    "                  'Percent Black, not Hispanic or Latino', 'Percent Hispanic or Latino', 'Percent Foreign Born',\n",
    "                  'Percent Female', 'Percent Age 29 and Under', 'Percent Age 65 and Older', 'Median Household Income',\n",
    "                  'Percent Unemployed', 'Percent Less than High School Degree', 'Percent Less than Bachelor\\'s Degree',\n",
    "                  'Percent Rural']])\n",
    "x_test_scaled = scaler.transform(x_test[['Total Population', 'Percent White, not Hispanic or Latino',\n",
    "                  'Percent Black, not Hispanic or Latino', 'Percent Hispanic or Latino', 'Percent Foreign Born',\n",
    "                  'Percent Female', 'Percent Age 29 and Under', 'Percent Age 65 and Older', 'Median Household Income',\n",
    "                  'Percent Unemployed', 'Percent Less than High School Degree', 'Percent Less than Bachelor\\'s Degree',\n",
    "                  'Percent Rural']])\n",
    "#print(x_train_scaled)"
   ]
  },
  {
   "cell_type": "markdown",
   "metadata": {},
   "source": [
    "**3. Build a linear regression model to predict the number of votes cast for the Democratic party in each county. Consider multiple combinations of predictor variables.Compute evaluation metrics for the validation set and report your results.**"
   ]
  },
  {
   "cell_type": "code",
   "execution_count": 20,
   "metadata": {},
   "outputs": [
    {
     "name": "stdout",
     "output_type": "stream",
     "text": [
      "Model coefficient [74711.50206856]\n",
      "R_squared value:  0.9436415220931651\n",
      "Adjusted R_squared value:  0.9435784812901373\n"
     ]
    }
   ],
   "source": [
    "#Simple linear regression using 'Population' as predictor to predict Democratic votes.\n",
    "\n",
    "from sklearn import linear_model\n",
    "import numpy\n",
    "\n",
    "n = len(x_train) #Number of observations in the training set\n",
    "\n",
    "model = linear_model.LinearRegression()\n",
    "fitted_model_D = model.fit(X = x_train_scaled[:, 0].reshape(-1, 1), y = y_train['Democratic'])\n",
    "\n",
    "\n",
    "predicted = fitted_model_D.predict(x_test_scaled[:, 0].reshape(-1, 1))\n",
    "\n",
    "corr_coef = numpy.corrcoef(predicted,y_test['Democratic'])[1, 0]\n",
    "R_squared = corr_coef ** 2\n",
    "\n",
    "adj_R_squared = 1 - ((1 - R_squared)*(n - 1)/(n - 1 - 1))\n",
    "\n",
    "print(\"Model coefficient\",model.coef_)\n",
    "print(\"R_squared value: \",R_squared)\n",
    "print(\"Adjusted R_squared value: \",adj_R_squared)\n",
    "\n",
    "\n",
    "#print(x_train.info())"
   ]
  },
  {
   "cell_type": "code",
   "execution_count": 97,
   "metadata": {},
   "outputs": [
    {
     "name": "stdout",
     "output_type": "stream",
     "text": [
      "Model coefficient [-8137.73810376]\n",
      "R_squared value:  0.022734480001930017\n",
      "Adjusted R_squared value:  0.02164134183638411\n"
     ]
    }
   ],
   "source": [
    "#Simple linear regression using 'Percent Less than High School Degree' as predictor to predict Democratic votes.\n",
    "\n",
    "model = linear_model.LinearRegression()\n",
    "fitted_model_D = model.fit(X = x_train_scaled[:, 10].reshape(-1, 1), y = y_train['Democratic'])\n",
    "\n",
    "predicted = fitted_model_D.predict(x_test_scaled[:, 10].reshape(-1, 1))\n",
    "\n",
    "corr_coef = numpy.corrcoef(predicted,y_test['Democratic'])[1, 0]\n",
    "R_squared = corr_coef ** 2\n",
    "\n",
    "adj_R_squared = 1 - ((1 - R_squared)*(n - 1)/(n - 1 - 1))\n",
    "\n",
    "print(\"Model coefficient\",model.coef_)\n",
    "print(\"R_squared value: \",R_squared)\n",
    "print(\"Adjusted R_squared value: \",adj_R_squared)\n"
   ]
  },
  {
   "cell_type": "code",
   "execution_count": 98,
   "metadata": {},
   "outputs": [
    {
     "name": "stdout",
     "output_type": "stream",
     "text": [
      "Model coefficient [73067.37334453  6279.76422366]\n",
      "R_squared value:  0.939337563328897\n",
      "Adjusted R_squared value:  0.939201701208693\n"
     ]
    }
   ],
   "source": [
    "#Multiple linear regression using \"Population\", \"Median Household Income\" as predictor to predict Democratic votes.\n",
    "\n",
    "model = linear_model.LinearRegression()\n",
    "fitted_model_D = model.fit(X = x_train_scaled[:, [0,8]], y = y_train['Democratic'])\n",
    "\n",
    "predicted = fitted_model_D.predict(x_test_scaled[:, [0,8]])\n",
    "\n",
    "\n",
    "corr_coef = numpy.corrcoef(predicted,y_test['Democratic'])[1, 0]\n",
    "R_squared = corr_coef ** 2\n",
    "\n",
    "adj_R_squared = 1 - ((1 - R_squared)*(n - 1)/(n - 2 - 1))\n",
    "\n",
    "print(\"Model coefficient\",model.coef_)\n",
    "print(\"R_squared value: \",R_squared)\n",
    "print(\"Adjusted R_squared value: \",adj_R_squared)\n"
   ]
  },
  {
   "cell_type": "code",
   "execution_count": 22,
   "metadata": {},
   "outputs": [
    {
     "name": "stdout",
     "output_type": "stream",
     "text": [
      "Model coefficient [71012.84796525  -345.05366382  1157.04687807 -8608.17042826]\n",
      "R_squared value:  0.9477341130569613\n",
      "Adjusted R_squared value:  0.9474994738338725\n"
     ]
    }
   ],
   "source": [
    "#Multiple linear regression using \"Population\", \"Median Household Income\",\"Percent white, not hispanic or latino\",\n",
    "#\"Percent Less than Bachelor's degree\" as predictor to predict Democratic votes.\n",
    "\n",
    "model = linear_model.LinearRegression()\n",
    "fitted_model_D = model.fit(X = x_train_scaled[:, [0,1,8,11]], y = y_train['Democratic'])\n",
    "\n",
    "predicted = fitted_model_D.predict(x_test_scaled[:, [0,1,8,11]])\n",
    "\n",
    "corr_coef = numpy.corrcoef(predicted,y_test['Democratic'])[1, 0]\n",
    "R_squared = corr_coef ** 2\n",
    "\n",
    "adj_R_squared = 1 - ((1 - R_squared)*(n - 1)/(n - 4 - 1))\n",
    "\n",
    "print(\"Model coefficient\",model.coef_)\n",
    "print(\"R_squared value: \",R_squared)\n",
    "print(\"Adjusted R_squared value: \",adj_R_squared)\n"
   ]
  },
  {
   "cell_type": "code",
   "execution_count": 100,
   "metadata": {},
   "outputs": [
    {
     "name": "stdout",
     "output_type": "stream",
     "text": [
      "Model coefficient [ 69224.38708039  -3209.1591268   -1023.23488454  -6931.14708179\n",
      "   3973.74580741    194.19056985  -5299.5676761   -1853.22320472\n",
      "   1471.25963216   1467.0213699    4037.7699931  -10519.02638282\n",
      "   -158.13004477]\n",
      "R_squared value:  0.9338361960241593\n",
      "Adjusted R_squared value:  0.9326318491941099\n"
     ]
    }
   ],
   "source": [
    "#Multiple linear regression using all predictor to predict Democratic votes.\n",
    "\n",
    "model = linear_model.LinearRegression()\n",
    "fitted_model_D = model.fit(X = x_train_scaled, y = y_train['Democratic'])\n",
    "\n",
    "predicted = fitted_model_D.predict(x_test_scaled)\n",
    "\n",
    "corr_coef = numpy.corrcoef(predicted,y_test['Democratic'])[1, 0]\n",
    "R_squared = corr_coef ** 2\n",
    "\n",
    "adj_R_squared = 1 - ((1 - R_squared)*(n - 1)/(n - len(x_train.columns) - 1))\n",
    "\n",
    "print(\"Model coefficient\",model.coef_)\n",
    "print(\"R_squared value: \",R_squared)\n",
    "print(\"Adjusted R_squared value: \",adj_R_squared)\n"
   ]
  },
  {
   "cell_type": "markdown",
   "metadata": {},
   "source": [
    "**What is the best performing linear regression model? What is the performance of the model? How did you select the variables\n",
    "of the model?**"
   ]
  },
  {
   "cell_type": "markdown",
   "metadata": {},
   "source": [
    "**Answer:** The best performing linear Regression model is Multiple linear Regression model using \"Population\", \"Median Household Income\",\"Percent white, not hispanic or latino\", \"Percent Less than Bachelor's degree\" as predictor. The model perform well with these four predictors with adjusted R square value = 0.947. Selection of the varible is consistant with Project 1 conclusion and also on present analysis as we see here the adjusted R square value decreases if we consider all variables as predictors."
   ]
  },
  {
   "cell_type": "markdown",
   "metadata": {},
   "source": [
    "**Build a linear regression model to predict the number of votes cast for the Republican party in each county. Consider multiple combinations of predictor variables.Compute evaluation metrics for the validatiRepublicanon set and report your results.**"
   ]
  },
  {
   "cell_type": "code",
   "execution_count": 23,
   "metadata": {},
   "outputs": [
    {
     "name": "stdout",
     "output_type": "stream",
     "text": [
      "Model coefficient [45306.87897032]\n",
      "R_squared value:  0.6718468162068597\n",
      "Adjusted R_squared value:  0.6714797544800217\n"
     ]
    }
   ],
   "source": [
    "#Simple linear regression using 'Population' as predictor to predict Republican votes.\n",
    "\n",
    "from sklearn import linear_model\n",
    "import numpy\n",
    "\n",
    "n = len(x_train) #Number of observations in the training set\n",
    "\n",
    "model = linear_model.LinearRegression()\n",
    "fitted_model_R = model.fit(X = x_train_scaled[:, 0].reshape(-1, 1), y = y_train['Republican'])\n",
    "\n",
    "predicted = fitted_model_R.predict(x_test_scaled[:, 0].reshape(-1, 1))\n",
    "\n",
    "corr_coef = numpy.corrcoef(predicted,y_test['Republican'])[1, 0]\n",
    "R_squared = corr_coef ** 2\n",
    "\n",
    "adj_R_squared = 1 - ((1 - R_squared)*(n - 1)/(n - 1 - 1))\n",
    "\n",
    "print(\"Model coefficient\",model.coef_)\n",
    "print(\"R_squared value: \",R_squared)\n",
    "print(\"Adjusted R_squared value: \",adj_R_squared)\n"
   ]
  },
  {
   "cell_type": "code",
   "execution_count": 102,
   "metadata": {},
   "outputs": [
    {
     "name": "stdout",
     "output_type": "stream",
     "text": [
      "Model coefficient [-6381.7748349]\n",
      "R_squared value:  0.03593599340559728\n",
      "Adjusted R_squared value:  0.03485762203356779\n"
     ]
    }
   ],
   "source": [
    "#Simple linear regression using 'Percent Less than High School Degree' as predictor to predict Republican votes.\n",
    "\n",
    "model = linear_model.LinearRegression()\n",
    "fitted_model_R = model.fit(X = x_train_scaled[:, 10].reshape(-1, 1), y = y_train['Republican'])\n",
    "\n",
    "predicted = fitted_model_R.predict(x_test_scaled[:, 10].reshape(-1, 1))\n",
    "\n",
    "corr_coef = numpy.corrcoef(predicted,y_test['Republican'])[1, 0]\n",
    "R_squared = corr_coef ** 2\n",
    "\n",
    "adj_R_squared = 1 - ((1 - R_squared)*(n - 1)/(n - 1 - 1))\n",
    "\n",
    "print(\"Model coefficient\",model.coef_)\n",
    "print(\"R_squared value: \",R_squared)\n",
    "print(\"Adjusted R_squared value: \",adj_R_squared)\n"
   ]
  },
  {
   "cell_type": "code",
   "execution_count": 103,
   "metadata": {},
   "outputs": [
    {
     "name": "stdout",
     "output_type": "stream",
     "text": [
      "Model coefficient [44042.16950014  4830.56902305]\n",
      "R_squared value:  0.6841236214388341\n",
      "Adjusted R_squared value:  0.6834161715428404\n"
     ]
    }
   ],
   "source": [
    "#Multiple linear regression using \"Population\", \"Median Household Income\" as predictor to predict Republican votes.\n",
    "\n",
    "model = linear_model.LinearRegression()\n",
    "fitted_model_R = model.fit(X = x_train_scaled[:, [0,8]], y = y_train['Republican'])\n",
    "\n",
    "predicted = fitted_model_R.predict(x_test_scaled[:, [0,8]])\n",
    "\n",
    "\n",
    "corr_coef = numpy.corrcoef(predicted,y_test['Republican'])[1, 0]\n",
    "R_squared = corr_coef ** 2\n",
    "\n",
    "adj_R_squared = 1 - ((1 - R_squared)*(n - 1)/(n - 2 - 1))\n",
    "\n",
    "print(\"Model coefficient\",model.coef_)\n",
    "print(\"R_squared value: \",R_squared)\n",
    "print(\"Adjusted R_squared value: \",adj_R_squared)\n"
   ]
  },
  {
   "cell_type": "code",
   "execution_count": 104,
   "metadata": {},
   "outputs": [
    {
     "name": "stdout",
     "output_type": "stream",
     "text": [
      "Model coefficient [44609.62027579  3068.87458444  3337.02252553 -2140.80688346]\n",
      "R_squared value:  0.6837837434980029\n",
      "Adjusted R_squared value:  0.682364141897545\n"
     ]
    }
   ],
   "source": [
    "#Multiple linear regression using \"Population\", \"Median Household Income\",\"Percent white, not hispanic or latino\",\n",
    "#\"Percent Less than Bachelor's degree\" as predictor to predict Republican votes.\n",
    "\n",
    "model = linear_model.LinearRegression()\n",
    "fitted_model_R = model.fit(X = x_train_scaled[:, [0,1,8,11]], y = y_train['Republican'])\n",
    "\n",
    "predicted = fitted_model_R.predict(x_test_scaled[:, [0,1,8,11]])\n",
    "\n",
    "corr_coef = numpy.corrcoef(predicted,y_test['Republican'])[1, 0]\n",
    "R_squared = corr_coef ** 2\n",
    "\n",
    "adj_R_squared = 1 - ((1 - R_squared)*(n - 1)/(n - 4 - 1))\n",
    "\n",
    "print(\"Model coefficient\",model.coef_)\n",
    "print(\"R_squared value: \",R_squared)\n",
    "print(\"Adjusted R_squared value: \",adj_R_squared)\n"
   ]
  },
  {
   "cell_type": "code",
   "execution_count": 24,
   "metadata": {},
   "outputs": [
    {
     "name": "stdout",
     "output_type": "stream",
     "text": [
      "Model coefficient [45467.5097118   1769.95034533 -3141.4206375   1167.17323402\n",
      " -6463.65917143 -1121.73432851  -955.67013341  2580.74056065\n",
      "  5910.97457236  2037.10575397  3530.42010898 -3156.11275644\n",
      " -5992.05181735]\n",
      "R_squared value:  0.7239014362949739\n",
      "Adjusted R_squared value:  0.71887575140387\n"
     ]
    }
   ],
   "source": [
    "#Multiple linear regression using all predictor to predict Republican votes.\n",
    "\n",
    "model = linear_model.LinearRegression()\n",
    "fitted_model_R = model.fit(X = x_train_scaled, y = y_train['Republican'])\n",
    "\n",
    "predicted = fitted_model_R.predict(x_test_scaled)\n",
    "\n",
    "corr_coef = numpy.corrcoef(predicted,y_test['Republican'])[1, 0]\n",
    "R_squared = corr_coef ** 2\n",
    "\n",
    "adj_R_squared = 1 - ((1 - R_squared)*(n - 1)/(n - len(x_train.columns) - 1))\n",
    "\n",
    "print(\"Model coefficient\",model.coef_)\n",
    "print(\"R_squared value: \",R_squared)\n",
    "print(\"Adjusted R_squared value: \",adj_R_squared)\n"
   ]
  },
  {
   "cell_type": "markdown",
   "metadata": {},
   "source": [
    "**What is the best performing linear regression model? What is the performance of the model? How did you select the variables\n",
    "of the model?**"
   ]
  },
  {
   "cell_type": "markdown",
   "metadata": {},
   "source": [
    "**Answer:** The best performing linear Regression model while prediction Republican votes is Multiple linear Regression model using all veriables as predictor. The model does not perform too well with maximum adjusted R square value = 0.719.\n",
    "All the variables are selected for the model as it gives the best adjusted R square value."
   ]
  },
  {
   "cell_type": "markdown",
   "metadata": {},
   "source": [
    "**Task 4**"
   ]
  },
  {
   "cell_type": "code",
   "execution_count": 25,
   "metadata": {
    "scrolled": false
   },
   "outputs": [
    {
     "name": "stdout",
     "output_type": "stream",
     "text": [
      "Decision tree classifier with no random state and variables 'Total Population', 'Percent White', and 'Percent Rural'\n",
      "\n",
      "Number of decision tree nodes:  347\n",
      "Accuracy:  0.7224080267558528\n",
      "Error:  0.2775919732441472\n",
      "Precision:  [0.8173516 0.4625   ]\n",
      "Recall:  [0.80630631 0.48051948]\n",
      "F1 score:  [0.81179138 0.47133758]\n",
      "\n",
      "\n"
     ]
    },
    {
     "data": {
      "image/png": "[encoded data removed]",
      "text/plain": [
       "<Figure size 432x288 with 2 Axes>"
      ]
     },
     "metadata": {
      "needs_background": "light"
     },
     "output_type": "display_data"
    }
   ],
   "source": [
    "#Using decision tree classifier to classify each county as either Democratic or Republican \n",
    "\n",
    "'''\n",
    "First run with no random state and using variables \"Total Population\", \n",
    "\"Percent White, not Hispanic or Latino\", and \"Percent Rural\"\n",
    "\n",
    "'''\n",
    "\n",
    "classifier = DecisionTreeClassifier(criterion = \"entropy\", random_state = 0)\n",
    "print(\"Decision tree classifier with no random state and variables 'Total Population', 'Percent White', and 'Percent Rural'\\n\")\n",
    "classifier.fit(x_train_scaled[:, [0,1, 12]], y_train['Party'])\n",
    "\n",
    "print(\"Number of decision tree nodes: \", len(classifier.tree_.__getstate__()['nodes']))\n",
    "\n",
    "#predicting Party labels for the test set using decision tree classifier \n",
    "y_predicted = classifier.predict(x_test_scaled[:, [0,1, 12]])\n",
    "conf_matrix = metrics.confusion_matrix(y_test['Party'], y_predicted)\n",
    "\n",
    "# print confusion matrix\n",
    "sns.heatmap(conf_matrix, annot = True, fmt = \".3f\", square = True, cmap = plt.cm.Blues)\n",
    "plt.ylabel('Actual')\n",
    "plt.xlabel('Predicted')\n",
    "plt.title('Confusion matrix')\n",
    "plt.tight_layout()\n",
    "\n",
    "\n",
    "# print out Evaluation metrics for valudation set\n",
    "accuracy = metrics.accuracy_score(y_test['Party'], y_predicted)\n",
    "error = 1 - metrics.accuracy_score(y_test['Party'], y_predicted)\n",
    "precision = metrics.precision_score(y_test['Party'], y_predicted, average = None)\n",
    "recall = metrics.recall_score(y_test['Party'], y_predicted, average = None)\n",
    "F1_score = metrics.f1_score(y_test['Party'], y_predicted, average = None)\n",
    "\n",
    "print(\"Accuracy: \", accuracy)\n",
    "print(\"Error: \", error)\n",
    "print(\"Precision: \", precision)\n",
    "print(\"Recall: \", recall)\n",
    "print(\"F1 score: \", F1_score)\n",
    "print(\"\\n\")\n"
   ]
  },
  {
   "cell_type": "code",
   "execution_count": 26,
   "metadata": {
    "scrolled": false
   },
   "outputs": [
    {
     "name": "stdout",
     "output_type": "stream",
     "text": [
      "Decision tree classifier with random state and variables 'Median Household Income', 'Percent Unemployed', 'Percent Less than High School Degree' and 'Percent Less than Bachelor's Degree'\n",
      "\n",
      "Number of decision tree nodes:  309\n",
      "Accuracy:  0.7123745819397993\n",
      "Error:  0.2876254180602007\n",
      "Precision:  [0.79824561 0.43661972]\n",
      "Recall:  [0.81981982 0.4025974 ]\n",
      "F1 score:  [0.80888889 0.41891892]\n",
      "\n",
      "\n"
     ]
    },
    {
     "data": {
      "image/png": "[encoded data removed]",
      "text/plain": [
       "<Figure size 432x288 with 2 Axes>"
      ]
     },
     "metadata": {
      "needs_background": "light"
     },
     "output_type": "display_data"
    }
   ],
   "source": [
    "#Decision tree continued\n",
    "'''\n",
    "Second run using random state and using variables 'Median Household Income', 'Percent Unemployed',\n",
    "'Percent Less than High School Degree', 'Percent Less than Bachelor's Degree'\n",
    "\n",
    "'''\n",
    "classifier = DecisionTreeClassifier(criterion = \"entropy\", random_state = 1)\n",
    "print(\"Decision tree classifier with random state and variables 'Median Household Income', 'Percent Unemployed', 'Percent Less than High School Degree' and 'Percent Less than Bachelor's Degree'\\n\")\n",
    "classifier.fit(x_train_scaled[:, [8,9, 10, 12]], y_train['Party'])\n",
    "\n",
    "print(\"Number of decision tree nodes: \", len(classifier.tree_.__getstate__()['nodes']))\n",
    "\n",
    "#predicting Party labels for the test set using decision tree classifier \n",
    "y_predicted = classifier.predict(x_test_scaled[:, [8,9, 10, 12]])\n",
    "conf_matrix = metrics.confusion_matrix(y_test['Party'], y_predicted)\n",
    "\n",
    "# print confusion matrix\n",
    "sns.heatmap(conf_matrix, annot = True, fmt = \".3f\", square = True, cmap = plt.cm.Blues)\n",
    "plt.ylabel('Actual')\n",
    "plt.xlabel('Predicted')\n",
    "plt.title('Confusion matrix')\n",
    "plt.tight_layout()\n",
    "\n",
    "\n",
    "# print out Evaluation metrics for valudation set\n",
    "accuracy = metrics.accuracy_score(y_test['Party'], y_predicted)\n",
    "error = 1 - metrics.accuracy_score(y_test['Party'], y_predicted)\n",
    "precision = metrics.precision_score(y_test['Party'], y_predicted, average = None)\n",
    "recall = metrics.recall_score(y_test['Party'], y_predicted, average = None)\n",
    "F1_score = metrics.f1_score(y_test['Party'], y_predicted, average = None)\n",
    "\n",
    "print(\"Accuracy: \", accuracy)\n",
    "print(\"Error: \", error)\n",
    "print(\"Precision: \", precision)\n",
    "print(\"Recall: \", recall)\n",
    "print(\"F1 score: \", F1_score)\n",
    "print(\"\\n\")"
   ]
  },
  {
   "cell_type": "markdown",
   "metadata": {},
   "source": [
    "For our first run the decision tree classifier predicts party with precision of 46.25%, recall of 48.05%, and F1 Score of 46.13%. Our second run (with the random state) predicts party with precision of 43.66%, recall of 40.26%, and F1 Score of 41.89%. \n",
    "\n",
    "The first classifier does a better job predicting party."
   ]
  },
  {
   "cell_type": "code",
   "execution_count": 27,
   "metadata": {
    "scrolled": false
   },
   "outputs": [
    {
     "name": "stdout",
     "output_type": "stream",
     "text": [
      "Naive Bayes classifier with variables 'Total Population', 'Percent White', and 'Percent Rural'\n",
      "\n",
      "Accuracy:  0.7892976588628763\n",
      "Error:  0.21070234113712372\n",
      "Precision:  [0.8244898  0.62962963]\n",
      "Recall:  [0.90990991 0.44155844]\n",
      "F1 score:  [0.86509636 0.51908397]\n",
      "\n",
      "\n"
     ]
    },
    {
     "data": {
      "image/png": "[encoded data removed]",
      "text/plain": [
       "<Figure size 432x288 with 2 Axes>"
      ]
     },
     "metadata": {
      "needs_background": "light"
     },
     "output_type": "display_data"
    }
   ],
   "source": [
    "#Using a Naive Bayes classifier to classify each county as either Democratic or Republican \n",
    "\n",
    "\n",
    "'''\n",
    "First run using variables \"Total Population\", \"Percent White, not Hispanic or Latino\", and \"Percent Rural\"\n",
    "There are no parameters for Gaussian NB other than var_smoothing which we opted out from using\n",
    "'''\n",
    "\n",
    "#no parameters for Gaussian NB\n",
    "classifier = GaussianNB()\n",
    "print(\"Naive Bayes classifier with variables 'Total Population', 'Percent White', and 'Percent Rural'\\n\")\n",
    "classifier.fit(x_train_scaled[:, [0,1, 12]], y_train['Party'])\n",
    "\n",
    "#predicting Party labels for the test set using NB\n",
    "y_predicted = classifier.predict(x_test_scaled[:, [0,1, 12]])\n",
    "conf_matrix = metrics.confusion_matrix(y_test['Party'], y_predicted)\n",
    "\n",
    "# print confusion matrix\n",
    "sns.heatmap(conf_matrix, annot = True, fmt = \".3f\", square = True, cmap = plt.cm.Blues)\n",
    "plt.ylabel('Actual')\n",
    "plt.xlabel('Predicted')\n",
    "plt.title('Confusion matrix')\n",
    "plt.tight_layout()\n",
    "\n",
    "\n",
    "# print out Evaluation metrics for valudation set\n",
    "accuracy = metrics.accuracy_score(y_test['Party'], y_predicted)\n",
    "error = 1 - metrics.accuracy_score(y_test['Party'], y_predicted)\n",
    "precision = metrics.precision_score(y_test['Party'], y_predicted, average = None)\n",
    "recall = metrics.recall_score(y_test['Party'], y_predicted, average = None)\n",
    "F1_score = metrics.f1_score(y_test['Party'], y_predicted, average = None)\n",
    "\n",
    "print(\"Accuracy: \", accuracy)\n",
    "print(\"Error: \", error)\n",
    "print(\"Precision: \", precision)\n",
    "print(\"Recall: \", recall)\n",
    "print(\"F1 score: \", F1_score)\n",
    "print(\"\\n\")"
   ]
  },
  {
   "cell_type": "code",
   "execution_count": 28,
   "metadata": {
    "scrolled": false
   },
   "outputs": [
    {
     "name": "stdout",
     "output_type": "stream",
     "text": [
      "Naive Bayes classifier with variables 'Median Household Income', 'Percent Unemployed', 'Percent Less than High School Degree' and 'Percent Less than Bachelor's Degree'\n",
      "\n",
      "Accuracy:  0.7625418060200669\n",
      "Error:  0.23745819397993306\n",
      "Precision:  [0.81327801 0.55172414]\n",
      "Recall:  [0.88288288 0.41558442]\n",
      "F1 score:  [0.84665227 0.47407407]\n",
      "\n",
      "\n"
     ]
    },
    {
     "data": {
      "image/png": "[encoded data removed]",
      "text/plain": [
       "<Figure size 432x288 with 2 Axes>"
      ]
     },
     "metadata": {
      "needs_background": "light"
     },
     "output_type": "display_data"
    }
   ],
   "source": [
    "#NB continued\n",
    "'''\n",
    "Second run using variables 'Median Household Income', 'Percent Unemployed',\n",
    "'Percent Less than High School Degree', 'Percent Less than Bachelor's Degree'\n",
    "'''\n",
    "\n",
    "#no parameters for Gaussian NB\n",
    "classifier = GaussianNB()\n",
    "print(\"Naive Bayes classifier with variables 'Median Household Income', 'Percent Unemployed', 'Percent Less than High School Degree' and 'Percent Less than Bachelor's Degree'\\n\")\n",
    "classifier.fit(x_train_scaled[:, [8,9, 10, 12]], y_train['Party'])\n",
    "\n",
    "#predicting Party labels for the test set using NB\n",
    "y_predicted = classifier.predict(x_test_scaled[:, [8,9, 10, 12]])\n",
    "conf_matrix = metrics.confusion_matrix(y_test['Party'], y_predicted)\n",
    "\n",
    "\n",
    "\n",
    "# print confusion matrix\n",
    "sns.heatmap(conf_matrix, annot = True, fmt = \".3f\", square = True, cmap = plt.cm.Blues)\n",
    "plt.ylabel('Actual')\n",
    "plt.xlabel('Predicted')\n",
    "plt.title('Confusion matrix')\n",
    "plt.tight_layout()\n",
    "\n",
    "\n",
    "# print out Evaluation metrics for valudation set\n",
    "accuracy = metrics.accuracy_score(y_test['Party'], y_predicted)\n",
    "error = 1 - metrics.accuracy_score(y_test['Party'], y_predicted)\n",
    "precision = metrics.precision_score(y_test['Party'], y_predicted, average = None)\n",
    "recall = metrics.recall_score(y_test['Party'], y_predicted, average = None)\n",
    "F1_score = metrics.f1_score(y_test['Party'], y_predicted, average = None)\n",
    "\n",
    "print(\"Accuracy: \", accuracy)\n",
    "print(\"Error: \", error)\n",
    "print(\"Precision: \", precision)\n",
    "print(\"Recall: \", recall)\n",
    "print(\"F1 score: \", F1_score)\n",
    "print(\"\\n\")"
   ]
  },
  {
   "cell_type": "markdown",
   "metadata": {},
   "source": [
    "For our first run the Naive Bayes classifier predicts party with precision of 62.96%, recall of 44.15%, and F1 Score of 51.91%. Our second run predicts party with precision of 55.17%, recall of 41.55%, and F1 Score of 47.41%. \n",
    "\n",
    "The first classifier does a better job predicting party."
   ]
  },
  {
   "cell_type": "markdown",
   "metadata": {},
   "source": [
    "**What is the best performing classification model? What is the performance of the model? How did you select the parameters of the model? How did you select the variables of the model?**"
   ]
  },
  {
   "cell_type": "markdown",
   "metadata": {},
   "source": [
    "**Answer:** The best performing classification model is the Naive Bayes classifier using variables 'Total Population', 'Percent White', and 'Percent Rural'. It had an accuracy of 78.93% and the most True Positive values out of all 4 classifiers used. It also was the best in terms of evaluation metrics with precision of 62.96%, recall of 44.15%, and F1 Score of 51.91%.  The variables were selected because they gave the best indicator of a Republican county (a rural place with smaller populations and a white demographic). The model had no parameters because we did not want to use var_smoothing and there was nothing else to change. "
   ]
  },
  {
   "cell_type": "markdown",
   "metadata": {},
   "source": [
    "**Task 5**\n"
   ]
  },
  {
   "cell_type": "code",
   "execution_count": 56,
   "metadata": {},
   "outputs": [
    {
     "name": "stdout",
     "output_type": "stream",
     "text": [
      "Hierarchical clustering with complete linkage, euclidean distance metric and using variables 'Percent White, not Hispanic or Latino','Percent Black, not Hispanic or Latino', 'Percent Hispanic or Latino', 'Percent Foreign Born'\n",
      "\n",
      "Supervised metric:  0.05057355502877359\n",
      "Unsupervised metric:  0.64412187209008\n"
     ]
    },
    {
     "data": {
      "image/png": "[encoded data removed]",
      "text/plain": [
       "<Figure size 432x288 with 2 Axes>"
      ]
     },
     "metadata": {
      "needs_background": "light"
     },
     "output_type": "display_data"
    }
   ],
   "source": [
    "# Clustering the counties and evaluating the clusters found using Hierarchical clustering\n",
    "\n",
    "'''\n",
    "First run: Hierarchical clustering with complete linkage and using variables 'Percent White, not Hispanic or Latino',\n",
    "'Percent Black, not Hispanic or Latino', 'Percent Hispanic or Latino', 'Percent Foreign Born'\n",
    "'''\n",
    "\n",
    "X_cluster = merged_train[['Percent White, not Hispanic or Latino', 'Percent Black, not Hispanic or Latino', 'Percent Hispanic or Latino', 'Percent Foreign Born']]\n",
    "scaler = StandardScaler()\n",
    "scaler.fit(X_cluster)\n",
    "X_scaled_c = scaler.transform(X_cluster)\n",
    "\n",
    "print(\"Hierarchical clustering with complete linkage, euclidean distance metric and using variables 'Percent White, not Hispanic or Latino','Percent Black, not Hispanic or Latino', 'Percent Hispanic or Latino', 'Percent Foreign Born'\\n\")\n",
    "\n",
    "\n",
    "# we can use Y_Party from previous tests\n",
    "clustering = linkage(X_scaled_c, method = \"complete\", metric = \"euclidean\")\n",
    "clusters = fcluster(clustering, 2, criterion = 'maxclust')\n",
    "\n",
    "# print contingency matrix\n",
    "\n",
    "cont_matrix = metrics.cluster.contingency_matrix(Y['Party'], clusters)\n",
    "sns.heatmap(cont_matrix, annot = True, fmt = \".3f\", square = True, cmap = plt.cm.Blues)\n",
    "plt.ylabel('Actual')\n",
    "plt.xlabel('Predicted')\n",
    "plt.title('Contingency matrix')\n",
    "plt.tight_layout()\n",
    "\n",
    "# print out unsupervised and supervised evaluation metrics \n",
    "adjusted_rand_index = metrics.adjusted_rand_score(Y['Party'], clusters)\n",
    "silhouette_coefficient = metrics.silhouette_score(X_scaled_c, clusters, metric = \"euclidean\")\n",
    "print(\"Supervised metric: \", adjusted_rand_index)\n",
    "print(\"Unsupervised metric: \", silhouette_coefficient)\n",
    "\n"
   ]
  },
  {
   "cell_type": "code",
   "execution_count": 57,
   "metadata": {
    "scrolled": false
   },
   "outputs": [
    {
     "name": "stdout",
     "output_type": "stream",
     "text": [
      "Hierarchical clustering with complete linkage, jaccard distance metric and using variables 'Percent Female', 'Percent Age 29 and Under', 'Percent Age 65 and Older', 'Median Household Income', 'Percent Unemployed'\n",
      "\n",
      "Supervised metric:  0.09223396339355758\n",
      "Unsupervised metric:  0.37214725289194917\n"
     ]
    },
    {
     "data": {
      "image/png": "[encoded data removed]",
      "text/plain": [
       "<Figure size 432x288 with 2 Axes>"
      ]
     },
     "metadata": {
      "needs_background": "light"
     },
     "output_type": "display_data"
    }
   ],
   "source": [
    "# Hierarchical clustering continued\n",
    "\n",
    "'''\n",
    "Second run: Hierarchical clustering with complete linkage and using variables 'Percent Female', \n",
    "'Percent Age 29 and Under', 'Percent Age 65 and Older', 'Median Household Income', 'Percent Unemployed'\n",
    "'''\n",
    "\n",
    "X_cluster = merged_train[['Percent Female', 'Percent Age 29 and Under', 'Percent Age 65 and Older', 'Median Household Income', 'Percent Unemployed']]\n",
    "scaler = StandardScaler()\n",
    "scaler.fit(X_cluster)\n",
    "X_scaled_c = scaler.transform(X_cluster)\n",
    "\n",
    "print(\"Hierarchical clustering with complete linkage, jaccard distance metric and using variables 'Percent Female', 'Percent Age 29 and Under', 'Percent Age 65 and Older', 'Median Household Income', 'Percent Unemployed'\\n\")\n",
    "\n",
    "\n",
    "# we can use Y_Party from previous tests\n",
    "clustering = linkage(X_scaled_c, method = \"complete\", metric = \"cosine\")\n",
    "clusters = fcluster(clustering, 2, criterion = 'maxclust')\n",
    "\n",
    "# print contingency matrix\n",
    "cont_matrix = metrics.cluster.contingency_matrix(Y['Party'], clusters)\n",
    "sns.heatmap(cont_matrix, annot = True, fmt = \".3f\", square = True, cmap = plt.cm.Blues)\n",
    "plt.ylabel('Actual')\n",
    "plt.xlabel('Predicted')\n",
    "plt.title('Contingency matrix')\n",
    "plt.tight_layout()\n",
    "\n",
    "# print out unsupervised and supervised evaluation metrics \n",
    "adjusted_rand_index = metrics.adjusted_rand_score(Y['Party'], clusters)\n",
    "silhouette_coefficient = metrics.silhouette_score(X_scaled_c, clusters, metric = \"cosine\")\n",
    "print(\"Supervised metric: \", adjusted_rand_index)\n",
    "print(\"Unsupervised metric: \", silhouette_coefficient)"
   ]
  },
  {
   "cell_type": "markdown",
   "metadata": {},
   "source": [
    "\n",
    "The first Heirarchical clustering had the best performance with an unsupervised metric of 64.41%"
   ]
  },
  {
   "cell_type": "code",
   "execution_count": 20,
   "metadata": {
    "scrolled": false
   },
   "outputs": [
    {
     "name": "stdout",
     "output_type": "stream",
     "text": [
      "DBSCAN clustering with eps = .5, min_samples = 15 and using variables 'Percent White, not Hispanic or Latino','Percent Black, not Hispanic or Latino', 'Percent Hispanic or Latino', 'Percent Foreign Born'\n",
      "\n",
      "Supervised metric:  0.12908114450483138\n",
      "Unsupervised metric:  0.5786850122739186\n"
     ]
    },
    {
     "data": {
      "image/png": "[encoded data removed]",
      "text/plain": [
       "<Figure size 432x288 with 2 Axes>"
      ]
     },
     "metadata": {
      "needs_background": "light"
     },
     "output_type": "display_data"
    }
   ],
   "source": [
    "# Clustering using DBScan\n",
    "\n",
    "'''\n",
    "First run: DBSCAN with eps = .5, min_samples = 15 and using variables 'Percent White, not Hispanic or Latino',\n",
    "'Percent Black, not Hispanic or Latino', 'Percent Hispanic or Latino', 'Percent Foreign Born'\n",
    "'''\n",
    "\n",
    "X_cluster = merged_train[['Percent White, not Hispanic or Latino', 'Percent Black, not Hispanic or Latino', 'Percent Hispanic or Latino', 'Percent Foreign Born']]\n",
    "scaler = StandardScaler()\n",
    "scaler.fit(X_cluster)\n",
    "X_scaled_c = scaler.transform(X_cluster)\n",
    "\n",
    "print(\"DBSCAN clustering with eps = .5, min_samples = 15 and using variables 'Percent White, not Hispanic or Latino','Percent Black, not Hispanic or Latino', 'Percent Hispanic or Latino', 'Percent Foreign Born'\\n\")\n",
    "\n",
    "clustering = DBSCAN(eps = .5, min_samples = 15, metric = \"euclidean\").fit(X_scaled_c)\n",
    "clusters = clustering.labels_\n",
    "\n",
    "# print contingency matrix\n",
    "cont_matrix = metrics.cluster.contingency_matrix(Y['Party'], clusters)\n",
    "sns.heatmap(cont_matrix, annot = True, fmt = \".3f\", square = True, cmap = plt.cm.Blues)\n",
    "plt.ylabel('Actual')\n",
    "plt.xlabel('Predicted')\n",
    "plt.title('Contingency matrix')\n",
    "plt.tight_layout()\n",
    "\n",
    "# print out unsupervised and supervised evaluation metrics \n",
    "adjusted_rand_index = metrics.adjusted_rand_score(Y['Party'], clusters)\n",
    "silhouette_coefficient = metrics.silhouette_score(X_scaled_c, clusters, metric = \"euclidean\")\n",
    "print(\"Supervised metric: \", adjusted_rand_index)\n",
    "print(\"Unsupervised metric: \", silhouette_coefficient)\n"
   ]
  },
  {
   "cell_type": "code",
   "execution_count": 21,
   "metadata": {},
   "outputs": [
    {
     "name": "stdout",
     "output_type": "stream",
     "text": [
      "DBSCAN clustering with eps = 1, min_samples = 10 and using variables 'Percent Female', 'Percent Age 29 and Under', 'Percent Age 65 and Older', 'Median Household Income', 'Percent Unemployed'\n",
      "\n",
      "Supervised metric:  0.008381757165266535\n",
      "Unsupervised metric:  0.2213462398681104\n"
     ]
    },
    {
     "data": {
      "image/png": "[encoded data removed]",
      "text/plain": [
       "<Figure size 432x288 with 2 Axes>"
      ]
     },
     "metadata": {
      "needs_background": "light"
     },
     "output_type": "display_data"
    }
   ],
   "source": [
    "# DBSCAN continued\n",
    "\n",
    "'''\n",
    "Second run: DBSCAN with eps = 1, min_samples = 10 and using variables 'Percent Female', \n",
    "'Percent Age 29 and Under', 'Percent Age 65 and Older', 'Median Household Income', 'Percent Unemployed'\n",
    "'''\n",
    "\n",
    "\n",
    "X_cluster = merged_train[['Percent Female', 'Percent Age 29 and Under', 'Percent Age 65 and Older', 'Median Household Income', 'Percent Unemployed']]\n",
    "scaler = StandardScaler()\n",
    "scaler.fit(X_cluster)\n",
    "X_scaled_c = scaler.transform(X_cluster)\n",
    "\n",
    "print(\"DBSCAN clustering with eps = 1, min_samples = 10 and using variables 'Percent Female', 'Percent Age 29 and Under', 'Percent Age 65 and Older', 'Median Household Income', 'Percent Unemployed'\\n\")\n",
    "\n",
    "\n",
    "clustering = DBSCAN(eps = 1, min_samples = 10, metric = \"euclidean\").fit(X_scaled_c)\n",
    "clusters = clustering.labels_\n",
    "\n",
    "# print contingency matrix\n",
    "cont_matrix = metrics.cluster.contingency_matrix(Y['Party'], clusters)\n",
    "sns.heatmap(cont_matrix, annot = True, fmt = \".3f\", square = True, cmap = plt.cm.Blues)\n",
    "plt.ylabel('Actual')\n",
    "plt.xlabel('Predicted')\n",
    "plt.title('Contingency matrix')\n",
    "plt.tight_layout()\n",
    "\n",
    "# print out unsupervised and supervised evaluation metrics \n",
    "adjusted_rand_index = metrics.adjusted_rand_score(Y['Party'], clusters)\n",
    "silhouette_coefficient = metrics.silhouette_score(X_scaled_c, clusters, metric = \"euclidean\")\n",
    "print(\"Supervised metric: \", adjusted_rand_index)\n",
    "print(\"Unsupervised metric: \", silhouette_coefficient)\n"
   ]
  },
  {
   "cell_type": "markdown",
   "metadata": {},
   "source": [
    "The first DBSCAN clustering had the better performance with an unsupervised metric of 57.87%. "
   ]
  },
  {
   "cell_type": "markdown",
   "metadata": {},
   "source": [
    "**What is the best performing clustering model? What is the performance of the model? How did you select the parameters of model? How did you select the variables of the model?**"
   ]
  },
  {
   "cell_type": "markdown",
   "metadata": {},
   "source": [
    "Answer: The best performing model was Heirarchical clustering with complete linkage and variables 'Percent White, not Hispanic or Latino', 'Percent Black, not Hispanic or Latino', 'Percent Hispanic or Latino', 'Percent Foreign Born'. It had an unsupervised metric of 64.41% and supervised metric of 5.06. The parameters selected were complete linkage and euclidean distance because single linkage did not accurately cluster the data. The variables were selected because they all describe the demographic of a given county and provide a rough estimation of diversity."
   ]
  },
  {
   "cell_type": "code",
   "execution_count": 126,
   "metadata": {},
   "outputs": [
    {
     "name": "stdout",
     "output_type": "stream",
     "text": [
      "Naive Bayes classifier with variables 'Median Household Income', 'Percent Unemployed', 'Percent Less than High School Degree' and 'Percent Less than Bachelor's Degree'\n",
      "\n"
     ]
    },
    {
     "ename": "NameError",
     "evalue": "name 'demographics_data' is not defined",
     "output_type": "error",
     "traceback": [
      "\u001b[1;31m---------------------------------------------------------------------------\u001b[0m",
      "\u001b[1;31mNameError\u001b[0m                                 Traceback (most recent call last)",
      "\u001b[1;32m<ipython-input-126-922316382e29>\u001b[0m in \u001b[0;36m<module>\u001b[1;34m\u001b[0m\n\u001b[0;32m      5\u001b[0m \u001b[1;33m\u001b[0m\u001b[0m\n\u001b[0;32m      6\u001b[0m \u001b[1;31m#predicting Party labels for the test set using NB\u001b[0m\u001b[1;33m\u001b[0m\u001b[1;33m\u001b[0m\u001b[1;33m\u001b[0m\u001b[0m\n\u001b[1;32m----> 7\u001b[1;33m \u001b[0my_predicted\u001b[0m \u001b[1;33m=\u001b[0m \u001b[0mclassifier\u001b[0m\u001b[1;33m.\u001b[0m\u001b[0mpredict\u001b[0m\u001b[1;33m(\u001b[0m\u001b[0mdemographics_data\u001b[0m\u001b[1;33m[\u001b[0m\u001b[1;33m[\u001b[0m\u001b[1;34m'Median Household Income'\u001b[0m\u001b[1;33m,\u001b[0m\u001b[1;34m'Percent Unemployed'\u001b[0m\u001b[1;33m,\u001b[0m \u001b[1;34m'Percent Less than High School Degree'\u001b[0m\u001b[1;33m,\u001b[0m \u001b[1;34m'Percent Less than Bachelor\\'s Degree'\u001b[0m\u001b[1;33m]\u001b[0m\u001b[1;33m]\u001b[0m\u001b[1;33m)\u001b[0m\u001b[1;33m\u001b[0m\u001b[1;33m\u001b[0m\u001b[0m\n\u001b[0m\u001b[0;32m      8\u001b[0m \u001b[0mdemographics_test\u001b[0m\u001b[1;33m[\u001b[0m\u001b[1;34m'Party'\u001b[0m\u001b[1;33m]\u001b[0m \u001b[1;33m=\u001b[0m \u001b[0my_predicted\u001b[0m\u001b[1;33m\u001b[0m\u001b[1;33m\u001b[0m\u001b[0m\n\u001b[0;32m      9\u001b[0m \u001b[0mstates\u001b[0m \u001b[1;33m=\u001b[0m \u001b[0mlist\u001b[0m\u001b[1;33m(\u001b[0m\u001b[0mset\u001b[0m\u001b[1;33m(\u001b[0m\u001b[0mdemographics_test\u001b[0m\u001b[1;33m[\u001b[0m\u001b[1;34m'State'\u001b[0m\u001b[1;33m]\u001b[0m\u001b[1;33m.\u001b[0m\u001b[0mtolist\u001b[0m\u001b[1;33m(\u001b[0m\u001b[1;33m)\u001b[0m\u001b[1;33m)\u001b[0m\u001b[1;33m)\u001b[0m\u001b[1;33m\u001b[0m\u001b[1;33m\u001b[0m\u001b[0m\n",
      "\u001b[1;31mNameError\u001b[0m: name 'demographics_data' is not defined"
     ]
    }
   ],
   "source": [
    "#no parameters for Gaussian NB\n",
    "classifier = GaussianNB()\n",
    "print(\"Naive Bayes classifier with variables 'Median Household Income', 'Percent Unemployed', 'Percent Less than High School Degree' and 'Percent Less than Bachelor's Degree'\\n\")\n",
    "classifier.fit(x_train_scaled[:,[ 8,9,10,12]],y_train['Party'] )\n",
    "\n",
    "#predicting Party labels for the test set using NB\n",
    "y_predicted = classifier.predict(demographics_data[['Median Household Income','Percent Unemployed', 'Percent Less than High School Degree', 'Percent Less than Bachelor\\'s Degree']])\n",
    "demographics_test['Party'] = y_predicted\n",
    "states = list(set(demographics_test['State'].tolist()))\n",
    "values = demographics_test['Party'].tolist()\n",
    "fips = demographics_test['FIPS'].tolist()\n",
    "colorscale = ['rgb(255.0, 0.0, 0.0)', 'rgb(0.0, 0.0, 255.0)']\n",
    "\n",
    "fig = ff.create_choropleth(\n",
    "    fips=fips, values=values,colorscale=colorscale,\n",
    "    scope=states, county_outline={'color': 'rgb(255,255,255)', 'width': 0.5},\n",
    "    legend_title='Party by County'\n",
    "\n",
    ")\n",
    "fig.update_layout(\n",
    "    legend_x = 0,\n",
    "    annotations = {'x': -0.12, 'xanchor': 'left'}\n",
    ")\n",
    "\n",
    "fig.layout.template = None\n",
    "fig.show()"
   ]
  },
  {
   "cell_type": "markdown",
   "metadata": {},
   "source": [
    " **Task 7:**\n",
    "Use your best performing regression and classification models to predict the number of votes cast for the Democratic party in each county, the number of votes cast for the Republican party in each county, and the party (Democratic or Republican) of\n",
    "each county for the test dataset (demographics_test.csv). Save the output in a single CSV file. For the expected format of the output, see sample_output.csv."
   ]
  },
  {
   "cell_type": "code",
   "execution_count": 29,
   "metadata": {},
   "outputs": [
    {
     "name": "stdout",
     "output_type": "stream",
     "text": [
      "<class 'pandas.core.frame.DataFrame'>\n",
      "RangeIndex: 400 entries, 0 to 399\n",
      "Data columns (total 13 columns):\n",
      " #   Column                                 Non-Null Count  Dtype  \n",
      "---  ------                                 --------------  -----  \n",
      " 0   Total Population                       400 non-null    int64  \n",
      " 1   Percent White, not Hispanic or Latino  400 non-null    float64\n",
      " 2   Percent Black, not Hispanic or Latino  400 non-null    float64\n",
      " 3   Percent Hispanic or Latino             400 non-null    float64\n",
      " 4   Percent Foreign Born                   400 non-null    float64\n",
      " 5   Percent Female                         400 non-null    float64\n",
      " 6   Percent Age 29 and Under               400 non-null    float64\n",
      " 7   Percent Age 65 and Older               400 non-null    float64\n",
      " 8   Median Household Income                400 non-null    int64  \n",
      " 9   Percent Unemployed                     400 non-null    float64\n",
      " 10  Percent Less than High School Degree   400 non-null    float64\n",
      " 11  Percent Less than Bachelor's Degree    400 non-null    float64\n",
      " 12  Percent Rural                          400 non-null    float64\n",
      "dtypes: float64(11), int64(2)\n",
      "memory usage: 40.8 KB\n"
     ]
    }
   ],
   "source": [
    "election_demographic = pd.read_csv('demographics_test.csv')\n",
    "election_demographic.head()\n",
    "\n",
    "x_test = election_demographic.select_dtypes(include = [numpy.int64,numpy.float64])\n",
    "x_test = x_test.iloc[:,1:14]\n",
    "x_test.info()\n",
    "x_test_scaled = scaler.transform(x_test)\n",
    "x_test_scaled_df = pd.DataFrame(x_test_scaled,index = x_test.index,columns=x_test.columns)\n",
    "\n",
    "#y_pred_democratic = fitted_model.predict(x_test_scaled_df[:, [0,1,8,11]])\n",
    "y_pred_democratic = fitted_model_D.predict(x_test_scaled_df[['Total Population','Median Household Income',\n",
    "                                                           'Percent White, not Hispanic or Latino',\n",
    "                                                           'Percent Less than Bachelor\\'s Degree']])\n",
    "election_demographic['Democratic'] = y_pred_democratic\n",
    "\n",
    "\n",
    "# #\"Population\", \"Median Household Income\",\"Percent white, not hispanic or latino\", \"Percent Less than Bachelor's degree\" \n",
    "y_pred_republican = fitted_model_R.predict(x_test_scaled_df)\n",
    "\n",
    "election_demographic['Republican'] = y_pred_republican\n",
    "\n",
    "election_demographic.head()\n",
    "\n",
    "\n",
    "# classifier = GaussianNB()\n",
    "y_predicted = classifier.predict(x_test_scaled_df[['Median Household Income','Percent Unemployed', 'Percent Less than High School Degree', 'Percent Less than Bachelor\\'s Degree']])\n",
    "election_demographic['Party'] = y_predicted  \n",
    "\n",
    "\n",
    "sample_output = election_demographic[['State','County','Democratic','Republican','Party']] \n",
    "sample_output.head()\n",
    "\n",
    "numaric_data = sample_output._get_numeric_data()\n",
    "numaric_data[numaric_data < 0] = 0 \n",
    "sample_output.head()\n",
    "\n",
    "sample_output.to_csv(\"output.csv\")\n"
   ]
  },
  {
   "cell_type": "code",
   "execution_count": null,
   "metadata": {},
   "outputs": [],
   "source": []
  }
 ],
 "metadata": {
  "kernelspec": {
   "display_name": "Python 3",
   "language": "python",
   "name": "python3"
  },
  "language_info": {
   "codemirror_mode": {
    "name": "ipython",
    "version": 3
   },
   "file_extension": ".py",
   "mimetype": "text/x-python",
   "name": "python",
   "nbconvert_exporter": "python",
   "pygments_lexer": "ipython3",
   "version": "3.8.3"
  }
 },
 "nbformat": 4,
 "nbformat_minor": 4
}
